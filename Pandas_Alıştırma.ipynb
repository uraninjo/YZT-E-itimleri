{
 "cells": [
  {
   "cell_type": "markdown",
   "metadata": {},
   "source": [
    "# Bootcamp 1.Gün. \n",
    "## Pandas alıştırmaları."
   ]
  },
  {
   "cell_type": "code",
   "execution_count": null,
   "metadata": {},
   "outputs": [],
   "source": [
    "#Gerekli kütüphaneleri içeri aktarın (pandas,numpy)"
   ]
  },
  {
   "cell_type": "code",
   "execution_count": null,
   "metadata": {},
   "outputs": [],
   "source": [
    "#Pandas kullanarak bir DataFrame oluşturun"
   ]
  },
  {
   "cell_type": "code",
   "execution_count": null,
   "metadata": {},
   "outputs": [],
   "source": [
    "#Titanic veri kümesini pandas kullanrak içeri aktarın ve bir değişkene tanımlayın"
   ]
  },
  {
   "cell_type": "code",
   "execution_count": null,
   "metadata": {},
   "outputs": [],
   "source": [
    "#Veri içerisindeki Age kolonunu bir değişkene tanımlayarak veriden çekin"
   ]
  },
  {
   "cell_type": "code",
   "execution_count": null,
   "metadata": {},
   "outputs": [],
   "source": [
    "#Veri içerisindeki SibSp ve Parch kolonlarını tek bir kolon altında birleştirin"
   ]
  },
  {
   "cell_type": "code",
   "execution_count": null,
   "metadata": {},
   "outputs": [],
   "source": [
    "#Verinin 203-456 arası satırlarını ve  Survived,Pclass,Fare kolonlarını .loc yöntemi ile pt1 değişkenine tanımlayın"
   ]
  },
  {
   "cell_type": "code",
   "execution_count": null,
   "metadata": {},
   "outputs": [],
   "source": [
    "#Verinin 203-456 arası satırlarını ve  Survived,Pclass,Name kolonlarını .iloc yöntemi ile pt2 değişkenine tanımlayın"
   ]
  },
  {
   "cell_type": "code",
   "execution_count": null,
   "metadata": {},
   "outputs": [],
   "source": [
    "#Verinin kolonlarını yazdırın "
   ]
  },
  {
   "cell_type": "code",
   "execution_count": null,
   "metadata": {},
   "outputs": [],
   "source": [
    "#Verinin Boyut bilgisini ve içerdiği hücre sayısını yazdırın"
   ]
  },
  {
   "cell_type": "code",
   "execution_count": null,
   "metadata": {},
   "outputs": [],
   "source": [
    "#Veri hakkındaki bilgiyi gösterin"
   ]
  },
  {
   "cell_type": "code",
   "execution_count": null,
   "metadata": {},
   "outputs": [],
   "source": [
    "#Veri içerisindeki değişken tiplerini yazdırın"
   ]
  },
  {
   "cell_type": "code",
   "execution_count": null,
   "metadata": {},
   "outputs": [],
   "source": [
    "#Verinin baştan 7 ve sondan 7 satırını yazdırın"
   ]
  },
  {
   "cell_type": "code",
   "execution_count": null,
   "metadata": {},
   "outputs": [],
   "source": [
    "#veri içerisinden karışık 5 örnek yazdırın"
   ]
  },
  {
   "cell_type": "code",
   "execution_count": null,
   "metadata": {},
   "outputs": [],
   "source": [
    "#Veri içerisindeki Embarked kolonuna ait farklı değişkenleri yazdırın"
   ]
  },
  {
   "cell_type": "code",
   "execution_count": null,
   "metadata": {},
   "outputs": [],
   "source": [
    "#Embarked kolonunda hangi değerden kaç adet olduğunu yazdırın"
   ]
  },
  {
   "cell_type": "code",
   "execution_count": null,
   "metadata": {},
   "outputs": [],
   "source": [
    "#Veri hakkındaki istatiksel bilgileri yazdırın"
   ]
  },
  {
   "cell_type": "code",
   "execution_count": null,
   "metadata": {},
   "outputs": [],
   "source": [
    "#Veriye ait korelasyon matrisini yazdırın ve survived kolonuna it korelasyon bilgilerini istediğiniz bir fonksiyonlar corelation değişkenine aktarın"
   ]
  },
  {
   "cell_type": "code",
   "execution_count": null,
   "metadata": {},
   "outputs": [],
   "source": [
    "#Verinin içerisindeki eksik verilerin sayılarını (Hangi kolonda kaç adet null var) yazdırın"
   ]
  },
  {
   "cell_type": "code",
   "execution_count": null,
   "metadata": {},
   "outputs": [],
   "source": [
    "#Veri içerisindeki Name , Ticket gibi kolonlar çok fazla sayıda farklı veri içeridği için algoritmayı bozar. Bu kolonları veriden çıkarın\n",
    "#ipucu : drop"
   ]
  },
  {
   "cell_type": "code",
   "execution_count": null,
   "metadata": {},
   "outputs": [],
   "source": [
    "#Veri içerisinde içinde en az 3 adet düzgün veri bulunmayan tüm verileri veriden çıkarın"
   ]
  },
  {
   "cell_type": "code",
   "execution_count": null,
   "metadata": {},
   "outputs": [],
   "source": [
    "#verileri age değişkenine göre gruplayarak oluşturduğunuz veriyi grup değişkenine atayın ve yazdırın "
   ]
  },
  {
   "cell_type": "code",
   "execution_count": null,
   "metadata": {},
   "outputs": [],
   "source": [
    "#verilen değerin karesinin 4 fazlasını çıktı olarak veren bir fonksiyon tanımlayın ve veri içerisindeki her yaş değeri için bu fonskiyonu uygulayın\n",
    "#ipucu : apply"
   ]
  },
  {
   "cell_type": "code",
   "execution_count": null,
   "metadata": {},
   "outputs": [],
   "source": [
    "#verileri yaş değerine göre küçükten büyüğe dopru sıralayın."
   ]
  }
 ],
 "metadata": {
  "kernelspec": {
   "display_name": "Python 3.9.6 64-bit",
   "language": "python",
   "name": "python3"
  },
  "language_info": {
   "name": "python",
   "version": "3.9.6"
  },
  "orig_nbformat": 4,
  "vscode": {
   "interpreter": {
    "hash": "268508d78b8110b7171f557010d066852d261de3232350841d5b032ae4151674"
   }
  }
 },
 "nbformat": 4,
 "nbformat_minor": 2
}
